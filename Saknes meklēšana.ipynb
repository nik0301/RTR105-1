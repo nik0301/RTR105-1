{
 "cells": [
  {
   "cell_type": "markdown",
   "metadata": {},
   "source": [
    "# Saknes meklēšana  "
   ]
  },
  {
   "cell_type": "markdown",
   "metadata": {},
   "source": [
    "*170:*  \n",
    "Saknes meklēšana funkcijai sin(x):  "
   ]
  },
  {
   "cell_type": "code",
   "execution_count": 5,
   "metadata": {},
   "outputs": [],
   "source": [
    "# -*- coding: utf-8 -*-  \n",
    "from math import sin, fabs  \n",
    "from time import sleep  \n",
    "  \n",
    "def f(x):  \n",
    "    return sin(x)  "
   ]
  },
  {
   "cell_type": "markdown",
   "metadata": {},
   "source": [
    "Definējam argumenta **x** robežas:  "
   ]
  },
  {
   "cell_type": "code",
   "execution_count": 6,
   "metadata": {},
   "outputs": [],
   "source": [
    "a = 1.1  \n",
    "b = 3.2  "
   ]
  },
  {
   "cell_type": "markdown",
   "metadata": {},
   "source": [
    "Apreķinām funkcijas vertības dotajos punktos:  "
   ]
  },
  {
   "cell_type": "code",
   "execution_count": 7,
   "metadata": {},
   "outputs": [],
   "source": [
    "funa = f(a)  \n",
    "funb = f(b)  "
   ]
  },
  {
   "cell_type": "markdown",
   "metadata": {},
   "source": [
    "Pārbaudam, vai dotajā intervālā ir saknes:  "
   ]
  },
  {
   "cell_type": "code",
   "execution_count": 8,
   "metadata": {},
   "outputs": [
    {
     "name": "stdout",
     "output_type": "stream",
     "text": [
      "Dotajaa intervaalaa sakne(s) ir!\n"
     ]
    }
   ],
   "source": [
    "if ( funa * funb > 0.0):  \n",
    "    print(\"Dotajaa intervaalaa [%s, %s] saknju nav\"%(a,b))  \n",
    "    sleep(1); exit()   \n",
    "else:  \n",
    "    print(\"Dotajaa intervaalaa sakne(s) ir!\")   "
   ]
  },
  {
   "cell_type": "markdown",
   "metadata": {},
   "source": [
    "Definējam precizitāti, ar kādu meklēsim sakni:  "
   ]
  },
  {
   "cell_type": "code",
   "execution_count": 9,
   "metadata": {},
   "outputs": [],
   "source": [
    "deltax = 0.01  "
   ]
  },
  {
   "cell_type": "markdown",
   "metadata": {},
   "source": [
    "Sašaurinam saknes meklēšanas robežas:  "
   ]
  },
  {
   "cell_type": "code",
   "execution_count": 10,
   "metadata": {},
   "outputs": [
    {
     "name": "stdout",
     "output_type": "stream",
     "text": [
      "Sakne ir:  3.1425781250000004\n"
     ]
    }
   ],
   "source": [
    "while ( fabs(b-a) > deltax ):  \n",
    "    x = (a+b)/2; funx = f(x)  \n",
    "    if ( funa*funx < 0. ):  \n",
    "        b = x  \n",
    "    else:  \n",
    "        a = x  \n",
    "  \n",
    "print(\"Sakne ir: \", x)  "
   ]
  },
  {
   "cell_type": "markdown",
   "metadata": {},
   "source": [
    "*171:*  "
   ]
  },
  {
   "cell_type": "code",
   "execution_count": 20,
   "metadata": {},
   "outputs": [
    {
     "name": "stdout",
     "output_type": "stream",
     "text": [
      "Dotajā intervālā sakne(s) ir!\n",
      "asin(x) sakne ir: 6.103515625e-05\n",
      "f(x) = 6.103515628789562e-05\n",
      "k = 15\n"
     ]
    }
   ],
   "source": [
    "# -*- coding: utf-8 -*-  \n",
    "from math import asin, fabs  \n",
    "from time import sleep  \n",
    "  \n",
    "def f(x):  \n",
    "    return asin(x)  \n",
    "k = 0    \n",
    "a = -1  \n",
    "b = 1  \n",
    "  \n",
    "funa = f(a)  \n",
    "funb = f(b)  \n",
    "  \n",
    "if ( funa * funb > 0.0):  \n",
    "    print(\"Dotajā intervālā [%s, %s] sakņu nav\"%(a,b))  \n",
    "    sleep(1); exit()\n",
    "else:  \n",
    "    print(\"Dotajā intervālā sakne(s) ir!\")  \n",
    "  \n",
    "deltax = 0.0001  \n",
    "  \n",
    "while ( fabs(b-a) > deltax ):  \n",
    "    k = k+1  \n",
    "    x = (a+b)/2; funx = f(x)  \n",
    "    if ( funa*funx < 0. ):  \n",
    "        b = x  \n",
    "    else:  \n",
    "        a = x  \n",
    "  \n",
    "print (\"asin(x) sakne ir:\", x)  \n",
    "print (\"f(x) =\", asin(x))  \n",
    "print (\"k =\", k)  "
   ]
  },
  {
   "cell_type": "code",
   "execution_count": null,
   "metadata": {},
   "outputs": [],
   "source": []
  }
 ],
 "metadata": {
  "kernelspec": {
   "display_name": "Python 3",
   "language": "python",
   "name": "python3"
  },
  "language_info": {
   "codemirror_mode": {
    "name": "ipython",
    "version": 3
   },
   "file_extension": ".py",
   "mimetype": "text/x-python",
   "name": "python",
   "nbconvert_exporter": "python",
   "pygments_lexer": "ipython3",
   "version": "3.6.7"
  }
 },
 "nbformat": 4,
 "nbformat_minor": 2
}
