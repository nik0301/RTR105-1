{
 "cells": [
  {
   "cell_type": "markdown",
   "metadata": {},
   "source": [
    "# Teilora rindas  "
   ]
  },
  {
   "cell_type": "markdown",
   "metadata": {},
   "source": [
    "Izmantojot šo kodu, jūs varat noteikt funkcijas vērtības, izmantojot Teilora rindas.  \n",
    "  "
   ]
  },
  {
   "cell_type": "markdown",
   "metadata": {},
   "source": [
    "Vispirms jāievada finkcijas (piem. asin(x)) vērtības mainīgajam **_x_**, atvasinātam **_k_** reizes punktā **_a_** un tās parciālu summu **_S_** :  "
   ]
  },
  {
   "cell_type": "code",
   "execution_count": null,
   "metadata": {},
   "outputs": [],
   "source": [
    "# -*- coding: utf-8 -*-  \n",
    "from math import asin  \n",
    "  \n",
    "def mans_arcsinuss(x):  \n",
    "    k = 0  \n",
    "    a = x  \n",
    "    S = a  \n",
    "print(\"Izdruka no liet.f. a0 = %6.2f S0 = %6.2f\"%(a,S))  "
   ]
  },
  {
   "cell_type": "markdown",
   "metadata": {},
   "source": [
    "Pēc tam ievadiet ciklisko vērtību ar komandu **_while_** :  "
   ]
  },
  {
   "cell_type": "code",
   "execution_count": null,
   "metadata": {},
   "outputs": [],
   "source": [
    "    while k < 4:  \n",
    "        k = k + 1  \n",
    "        R = x*x/((2*k)*(2*k+1))  \n",
    "        a = a * R  \n",
    "        S = S + a  \n",
    "print(\"Izdruka no liet.f. a%d = %6.2f S%d = %6.2f\"%(k,a,k,S))  "
   ]
  },
  {
   "cell_type": "markdown",
   "metadata": {},
   "source": [
    "Atgrieziet funkciju vērtību ar komandu **_return_** :  "
   ]
  },
  {
   "cell_type": "code",
   "execution_count": null,
   "metadata": {},
   "outputs": [],
   "source": [
    "    print(\"Izdruka no liet.f. Beigas!\")  \n",
    "return S  "
   ]
  },
  {
   "cell_type": "markdown",
   "metadata": {},
   "source": [
    "Ievadiet skaitļus ar komandu **_float_** un **_input_** :  "
   ]
  },
  {
   "cell_type": "code",
   "execution_count": null,
   "metadata": {},
   "outputs": [],
   "source": [
    "x = float(input(\"Lietotāj, lūdzu, ievadi argumentu (x): \"))  \n",
    "y = asin (x)  \n",
    "print(\"standarta asin(%.2f) = %6.2f\"%(x,y))  \n",
    "yy = mans_arcsinuss(x)  \n",
    "print(\"mans asin(%.2f) = %6.2f\"%(x,yy))  "
   ]
  },
  {
   "cell_type": "markdown",
   "metadata": {},
   "source": [
    "Un lai tas viss izskatās skaisti un saprotami, ievadiet sekojošos komandas:  "
   ]
  },
  {
   "cell_type": "code",
   "execution_count": null,
   "metadata": {},
   "outputs": [],
   "source": [
    "print(\"          500\")  \n",
    "print(\"        _______\")  \n",
    "print(\"        \\                  2*k+1\")  \n",
    "print(\"         \\         (2*k)!*x\")  \n",
    "print(\"asin(x) = >      ___________________\")  \n",
    "print(\"         /          k    2\")  \n",
    "print(\"        /______    4*k(k!)*(2*k+1)\")  \n",
    "print(\"          k=0\")  \n",
    "  \n",
    "  \n",
    "print(\"                                2\")  \n",
    "print(\"                               x\")  \n",
    "print(\"rekurences reizinatajs: _______________\")  \n",
    "print(\"                          k*2*(2*k+1)\")  "
   ]
  },
  {
   "cell_type": "markdown",
   "metadata": {},
   "source": [
    "Un galu galā mūsu kods izskatās šādi:  "
   ]
  },
  {
   "cell_type": "code",
   "execution_count": 2,
   "metadata": {},
   "outputs": [
    {
     "name": "stdout",
     "output_type": "stream",
     "text": [
      "Lietotāj, lūdzu, ievadi argumentu (x): 0.56\n",
      "standarta asin(0.56) =   0.59\n",
      "Izdruka no liet.f. a0 =   0.56 S0 =   0.56\n",
      "Izdruka no liet.f. a1 =   0.03 S1 =   0.59\n",
      "Izdruka no liet.f. a2 =   0.00 S2 =   0.59\n",
      "Izdruka no liet.f. a3 =   0.00 S3 =   0.59\n",
      "Izdruka no liet.f. a4 =   0.00 S4 =   0.59\n",
      "Izdruka no liet.f. Beigas!\n",
      "mans asin(0.56) =   0.59\n",
      "          500\n",
      "        _______\n",
      "        \\                  2*k+1\n",
      "         \\         (2*k)!*x\n",
      "asin(x) = >      ___________________\n",
      "         /          k    2\n",
      "        /______    4*k(k!)*(2*k+1)\n",
      "          k=0\n",
      "                                2\n",
      "                               x\n",
      "rekurences reizinatajs: _______________\n",
      "                          k*2*(2*k+1)\n"
     ]
    }
   ],
   "source": [
    "# -*- coding: utf-8 -*-  \n",
    "from math import asin  \n",
    "  \n",
    "def mans_arcsinuss(x):  \n",
    "    k = 0  \n",
    "    a = x  \n",
    "    S = a  \n",
    "    print(\"Izdruka no liet.f. a0 = %6.2f S0 = %6.2f\"%(a,S))  \n",
    "  \n",
    "    while k < 4:  \n",
    "        k = k + 1  \n",
    "        R = x*x/((2*k)*(2*k+1))  \n",
    "        a = a * R  \n",
    "        S = S + a  \n",
    "        print(\"Izdruka no liet.f. a%d = %6.2f S%d = %6.2f\"%(k,a,k,S))  \n",
    "  \n",
    "    print(\"Izdruka no liet.f. Beigas!\")  \n",
    "    return S  \n",
    "  \n",
    "x = float(input(\"Lietotāj, lūdzu, ievadi argumentu (x): \"))  \n",
    "y = asin (x)  \n",
    "print(\"standarta asin(%.2f) = %6.2f\"%(x,y))  \n",
    "yy = mans_arcsinuss(x)  \n",
    "print(\"mans asin(%.2f) = %6.2f\"%(x,yy))  \n",
    "  \n",
    "  \n",
    "print(\"          500\")  \n",
    "print(\"        _______\")  \n",
    "print(\"        \\                  2*k+1\")  \n",
    "print(\"         \\         (2*k)!*x\")  \n",
    "print(\"asin(x) = >      ___________________\")  \n",
    "print(\"         /          k    2\")  \n",
    "print(\"        /______    4*k(k!)*(2*k+1)\")  \n",
    "print(\"          k=0\")  \n",
    "  \n",
    "  \n",
    "print(\"                                2\")  \n",
    "print(\"                               x\")  \n",
    "print(\"rekurences reizinatajs: _______________\")  \n",
    "print(\"                          k*2*(2*k+1)\")  "
   ]
  },
  {
   "cell_type": "code",
   "execution_count": null,
   "metadata": {},
   "outputs": [],
   "source": []
  }
 ],
 "metadata": {
  "kernelspec": {
   "display_name": "Python 3",
   "language": "python",
   "name": "python3"
  },
  "language_info": {
   "codemirror_mode": {
    "name": "ipython",
    "version": 3
   },
   "file_extension": ".py",
   "mimetype": "text/x-python",
   "name": "python",
   "nbconvert_exporter": "python",
   "pygments_lexer": "ipython3",
   "version": "3.6.4"
  }
 },
 "nbformat": 4,
 "nbformat_minor": 2
}
